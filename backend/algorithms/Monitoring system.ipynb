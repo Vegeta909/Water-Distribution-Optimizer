{
 "cells": [
  {
   "cell_type": "code",
   "execution_count": 9,
   "id": "b47db07c-e604-4b80-bb17-6fa894ce4721",
   "metadata": {},
   "outputs": [],
   "source": [
    "import pandas as pd\n",
    "import networkx as nx\n",
    "import matplotlib.pyplot as plt\n",
    "import heapq\n",
    "import random\n",
    "import paho.mqtt.client as mqtt\n",
    "import json\n",
    "import time\n",
    "from threading import Thread\n"
   ]
  },
  {
   "cell_type": "code",
   "execution_count": 10,
   "id": "41a9f1c6-10b0-4bb8-a9e7-0464d42e8bc1",
   "metadata": {},
   "outputs": [
    {
     "data": {
      "text/html": [
       "<div>\n",
       "<style scoped>\n",
       "    .dataframe tbody tr th:only-of-type {\n",
       "        vertical-align: middle;\n",
       "    }\n",
       "\n",
       "    .dataframe tbody tr th {\n",
       "        vertical-align: top;\n",
       "    }\n",
       "\n",
       "    .dataframe thead th {\n",
       "        text-align: right;\n",
       "    }\n",
       "</style>\n",
       "<table border=\"1\" class=\"dataframe\">\n",
       "  <thead>\n",
       "    <tr style=\"text-align: right;\">\n",
       "      <th></th>\n",
       "      <th>created_at</th>\n",
       "      <th>Pressure 1</th>\n",
       "      <th>Pressure 2</th>\n",
       "      <th>Flow rate</th>\n",
       "    </tr>\n",
       "  </thead>\n",
       "  <tbody>\n",
       "    <tr>\n",
       "      <th>0</th>\n",
       "      <td>2024-05-25T08:31:24+00:00</td>\n",
       "      <td>-2.17577</td>\n",
       "      <td>0.00514</td>\n",
       "      <td>0.13333</td>\n",
       "    </tr>\n",
       "    <tr>\n",
       "      <th>1</th>\n",
       "      <td>2024-05-25T08:31:41+00:00</td>\n",
       "      <td>30.23457</td>\n",
       "      <td>0.59530</td>\n",
       "      <td>11.06667</td>\n",
       "    </tr>\n",
       "    <tr>\n",
       "      <th>2</th>\n",
       "      <td>2024-05-25T08:31:57+00:00</td>\n",
       "      <td>35.48957</td>\n",
       "      <td>5.49288</td>\n",
       "      <td>12.33333</td>\n",
       "    </tr>\n",
       "    <tr>\n",
       "      <th>3</th>\n",
       "      <td>2024-05-25T08:32:13+00:00</td>\n",
       "      <td>36.50723</td>\n",
       "      <td>12.12587</td>\n",
       "      <td>11.73333</td>\n",
       "    </tr>\n",
       "    <tr>\n",
       "      <th>4</th>\n",
       "      <td>2024-05-25T08:32:28+00:00</td>\n",
       "      <td>36.61425</td>\n",
       "      <td>12.49448</td>\n",
       "      <td>14.93333</td>\n",
       "    </tr>\n",
       "  </tbody>\n",
       "</table>\n",
       "</div>"
      ],
      "text/plain": [
       "                  created_at  Pressure 1  Pressure 2  Flow rate\n",
       "0  2024-05-25T08:31:24+00:00    -2.17577     0.00514    0.13333\n",
       "1  2024-05-25T08:31:41+00:00    30.23457     0.59530   11.06667\n",
       "2  2024-05-25T08:31:57+00:00    35.48957     5.49288   12.33333\n",
       "3  2024-05-25T08:32:13+00:00    36.50723    12.12587   11.73333\n",
       "4  2024-05-25T08:32:28+00:00    36.61425    12.49448   14.93333"
      ]
     },
     "execution_count": 10,
     "metadata": {},
     "output_type": "execute_result"
    }
   ],
   "source": [
    "df = pd.read_csv(\"C:/Users/HP/Desktop/PBL/Raw_Data.csv\")\n",
    "df = df[['created_at', 'Pressure 1', 'Pressure 2', 'Flow rate']]\n",
    "sensor_nodes = ['A', 'B', 'C', 'D']\n",
    "df.head()\n"
   ]
  },
  {
   "cell_type": "code",
   "execution_count": 11,
   "id": "cb40d549-ff16-40f8-a507-fe6b06ae99ae",
   "metadata": {},
   "outputs": [],
   "source": [
    "def dijkstra(graph, start):\n",
    "    queue = [(0, start)]\n",
    "    distances = {node: float('inf') for node in graph}\n",
    "    distances[start] = 0\n",
    "    previous = {node: None for node in graph}\n",
    "    \n",
    "    while queue:\n",
    "        (dist, current_node) = heapq.heappop(queue)\n",
    "        \n",
    "        for neighbor, weight in graph[current_node].items():\n",
    "            new_distance = dist + weight\n",
    "            if new_distance < distances[neighbor]:\n",
    "                distances[neighbor] = new_distance\n",
    "                previous[neighbor] = current_node\n",
    "                heapq.heappush(queue, (new_distance, neighbor))\n",
    "    \n",
    "    return distances, previous\n"
   ]
  },
  {
   "cell_type": "code",
   "execution_count": 12,
   "id": "c6ed57e5-9e4a-4389-8575-56c93ed83cf2",
   "metadata": {},
   "outputs": [],
   "source": [
    "graph = {\n",
    "    'A': {'B': 4, 'C': 2},\n",
    "    'B': {'A': 4, 'C': 1, 'D': 5},\n",
    "    'C': {'A': 2, 'B': 1, 'D': 8},\n",
    "    'D': {'B': 5, 'C': 8}\n",
    "}\n"
   ]
  },
  {
   "cell_type": "code",
   "execution_count": 5,
   "id": "e8c6fb27-376c-4e88-a79d-2f4427ee8d0f",
   "metadata": {},
   "outputs": [
    {
     "name": "stderr",
     "output_type": "stream",
     "text": [
      "C:\\Users\\HP\\AppData\\Local\\Temp\\ipykernel_29568\\3183752895.py:9: DeprecationWarning: Callback API version 1 is deprecated, update to latest version\n",
      "  mqtt_client = mqtt.Client()\n"
     ]
    },
    {
     "name": "stdout",
     "output_type": "stream",
     "text": [
      "Connected to MQTT Broker with result code 0\n",
      "[MQTT] Sensor Update: {'timestamp': '2024-05-25T08:31:41+00:00', 'Pressure_1': 30.23457, 'Pressure_2': 0.5953, 'Flow_rate': 11.06667, 'node': 'C'}\n",
      "[MQTT] Sensor Update: {'timestamp': '2024-05-25T08:31:57+00:00', 'Pressure_1': 35.48957, 'Pressure_2': 5.49288, 'Flow_rate': 12.33333, 'node': 'A'}\n",
      "[MQTT] Sensor Update: {'timestamp': '2024-05-25T08:32:13+00:00', 'Pressure_1': 36.50723, 'Pressure_2': 12.12587, 'Flow_rate': 11.73333, 'node': 'C'}\n",
      "[MQTT] Sensor Update: {'timestamp': '2024-05-25T08:32:28+00:00', 'Pressure_1': 36.61425, 'Pressure_2': 12.49448, 'Flow_rate': 14.93333, 'node': 'B'}\n",
      "[MQTT] Sensor Update: {'timestamp': '2024-05-25T08:32:44+00:00', 'Pressure_1': 36.84395, 'Pressure_2': 12.99472, 'Flow_rate': 13.93333, 'node': 'B'}\n",
      "[MQTT] Sensor Update: {'timestamp': '2024-05-25T08:33:02+00:00', 'Pressure_1': 37.16658, 'Pressure_2': 13.74625, 'Flow_rate': 14.4, 'node': 'A'}\n",
      "[MQTT] Sensor Update: {'timestamp': '2024-05-25T08:33:19+00:00', 'Pressure_1': 36.673, 'Pressure_2': 12.63831, 'Flow_rate': 15.11111, 'node': 'A'}\n",
      "[MQTT] Sensor Update: {'timestamp': '2024-05-25T08:33:34+00:00', 'Pressure_1': 36.44874, 'Pressure_2': 12.6827, 'Flow_rate': 14.86667, 'node': 'B'}\n",
      "[MQTT] Sensor Update: {'timestamp': '2024-05-25T08:33:50+00:00', 'Pressure_1': 36.36183, 'Pressure_2': 12.65476, 'Flow_rate': 14.33333, 'node': 'A'}\n",
      "[MQTT] Sensor Update: {'timestamp': '2024-05-25T08:34:07+00:00', 'Pressure_1': 36.15089, 'Pressure_2': 12.63718, 'Flow_rate': 14.0, 'node': 'D'}\n",
      "[MQTT] Sensor Update: {'timestamp': '2024-05-25T08:34:23+00:00', 'Pressure_1': 36.07879, 'Pressure_2': 12.61372, 'Flow_rate': 17.2, 'node': 'A'}\n",
      "[MQTT] Sensor Update: {'timestamp': '2024-05-25T08:34:39+00:00', 'Pressure_1': 36.12772, 'Pressure_2': 12.74946, 'Flow_rate': 15.93333, 'node': 'D'}\n",
      "[MQTT] Sensor Update: {'timestamp': '2024-05-25T08:34:55+00:00', 'Pressure_1': 36.10207, 'Pressure_2': 12.79765, 'Flow_rate': 16.73333, 'node': 'B'}\n",
      "[MQTT] Sensor Update: {'timestamp': '2024-05-25T08:35:12+00:00', 'Pressure_1': 36.10041, 'Pressure_2': 12.77477, 'Flow_rate': 20.26667, 'node': 'D'}\n",
      "[MQTT] Sensor Update: {'timestamp': '2024-05-25T08:35:28+00:00', 'Pressure_1': 36.08967, 'Pressure_2': 12.85948, 'Flow_rate': 17.93333, 'node': 'C'}\n",
      "[MQTT] Sensor Update: {'timestamp': '2024-05-25T08:35:45+00:00', 'Pressure_1': 36.1167, 'Pressure_2': 12.92839, 'Flow_rate': 11.51111, 'node': 'A'}\n",
      "[MQTT] Sensor Update: {'timestamp': '2024-05-25T08:36:01+00:00', 'Pressure_1': 36.0318, 'Pressure_2': 12.94284, 'Flow_rate': 26.93333, 'node': 'A'}\n",
      "[MQTT] Sensor Update: {'timestamp': '2024-05-25T08:36:18+00:00', 'Pressure_1': 35.99166, 'Pressure_2': 12.97496, 'Flow_rate': 15.91111, 'node': 'B'}\n",
      "[MQTT] Sensor Update: {'timestamp': '2024-05-25T08:36:35+00:00', 'Pressure_1': 36.07357, 'Pressure_2': 13.04037, 'Flow_rate': 15.66667, 'node': 'C'}\n",
      "Connected to MQTT Broker with result code 0\n"
     ]
    }
   ],
   "source": [
    "def on_connect(client, userdata, flags, rc):\n",
    "    print(\"Connected to MQTT Broker with result code \" + str(rc))\n",
    "    client.subscribe(\"water/sensors\")\n",
    "\n",
    "def on_message(client, userdata, msg):\n",
    "    payload = json.loads(msg.payload)\n",
    "    print(f\"[MQTT] Sensor Update: {payload}\")\n",
    "\n",
    "mqtt_client = mqtt.Client()\n",
    "mqtt_client.on_connect = on_connect\n",
    "mqtt_client.on_message = on_message\n",
    "mqtt_client.connect(\"broker.hivemq.com\", 1883, 60)\n",
    "\n",
    "mqtt_thread = Thread(target=mqtt_client.loop_forever)\n",
    "mqtt_thread.start()\n"
   ]
  },
  {
   "cell_type": "code",
   "execution_count": 6,
   "id": "6143f8b7-a8bd-42e9-b20b-b68dc7622223",
   "metadata": {},
   "outputs": [],
   "source": [
    "def simulate_sensor_data():\n",
    "    for i in range(min(len(df), 20)):\n",
    "        reading = df.iloc[i]\n",
    "        payload = {\n",
    "            \"timestamp\": reading['created_at'],\n",
    "            \"Pressure_1\": reading['Pressure 1'],\n",
    "            \"Pressure_2\": reading['Pressure 2'],\n",
    "            \"Flow_rate\": reading['Flow rate'],\n",
    "            \"node\": random.choice(sensor_nodes)\n",
    "        }\n",
    "        mqtt_client.publish(\"water/sensors\", json.dumps(payload))\n",
    "        time.sleep(1)\n",
    "\n",
    "simulate_thread = Thread(target=simulate_sensor_data)\n",
    "simulate_thread.start()\n"
   ]
  },
  {
   "cell_type": "code",
   "execution_count": 7,
   "id": "05c844f8-2abb-46e7-955c-e1ef604c13c2",
   "metadata": {},
   "outputs": [
    {
     "name": "stdout",
     "output_type": "stream",
     "text": [
      "Routing Table (Dynamic Weights): {'A': 0, 'B': 4.902742, 'C': 3.2684946666666663, 'D': 13.073978666666665}\n"
     ]
    }
   ],
   "source": [
    "def compute_dynamic_weights(base_graph, flow, pressure1, pressure2):\n",
    "    dynamic_graph = {}\n",
    "    factor = (abs(pressure1 - pressure2) + 1) / (flow + 1)\n",
    "    \n",
    "    for node in base_graph:\n",
    "        dynamic_graph[node] = {}\n",
    "        for neighbor, base_weight in base_graph[node].items():\n",
    "            dynamic_graph[node][neighbor] = base_weight * factor\n",
    "    return dynamic_graph\n",
    "\n",
    "sample = df.iloc[10]\n",
    "flow = sample['Flow rate']\n",
    "p1 = sample['Pressure 1']\n",
    "p2 = sample['Pressure 2']\n",
    "dynamic_graph = compute_dynamic_weights(graph, flow, p1, p2)\n",
    "distances, path = dijkstra(dynamic_graph, 'A')\n",
    "print(\"Routing Table (Dynamic Weights):\", distances)\n"
   ]
  },
  {
   "cell_type": "code",
   "execution_count": 8,
   "id": "06e6506a-1c67-46a1-9c3f-1756e1dce2ab",
   "metadata": {},
   "outputs": [
    {
     "name": "stdout",
     "output_type": "stream",
     "text": [
      "Shortest distances from source node:\n",
      "  A: 0.00\n",
      "  B: 4.90\n",
      "  C: 3.27\n",
      "  D: 13.07\n"
     ]
    },
    {
     "data": {
      "image/png": "[encoded data removed]",
      "text/plain": [
       "<Figure size 640x480 with 1 Axes>"
      ]
     },
     "metadata": {},
     "output_type": "display_data"
    }
   ],
   "source": [
    "def visualize_graph(graph, distances=None):\n",
    "    G = nx.Graph()\n",
    "    for node in graph:\n",
    "        for neighbor, weight in graph[node].items():\n",
    "            G.add_edge(node, neighbor, weight=round(weight, 2))\n",
    "    \n",
    "    pos = nx.spring_layout(G)\n",
    "    edge_labels = nx.get_edge_attributes(G, 'weight')\n",
    "    nx.draw(G, pos, with_labels=True, node_size=800, node_color=\"lightblue\", font_size=12)\n",
    "    nx.draw_networkx_edge_labels(G, pos, edge_labels=edge_labels)\n",
    "    \n",
    "    if distances:\n",
    "        print(\"Shortest distances from source node:\")\n",
    "        for node, dist in distances.items():\n",
    "            print(f\"  {node}: {dist:.2f}\")\n",
    "    \n",
    "    plt.show()\n",
    "\n",
    "visualize_graph(dynamic_graph, distances)\n"
   ]
  }
 ],
 "metadata": {
  "kernelspec": {
   "display_name": "Python 3 (ipykernel)",
   "language": "python",
   "name": "python3"
  },
  "language_info": {
   "codemirror_mode": {
    "name": "ipython",
    "version": 3
   },
   "file_extension": ".py",
   "mimetype": "text/x-python",
   "name": "python",
   "nbconvert_exporter": "python",
   "pygments_lexer": "ipython3",
   "version": "3.11.9"
  }
 },
 "nbformat": 4,
 "nbformat_minor": 5
}
