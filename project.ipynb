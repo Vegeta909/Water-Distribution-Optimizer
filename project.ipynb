{
 "cells": [
  {
   "cell_type": "code",
   "execution_count": 1,
   "id": "8e84e673",
   "metadata": {},
   "outputs": [
    {
     "name": "stdout",
     "output_type": "stream",
     "text": [
      "6.1.2\n"
     ]
    }
   ],
   "source": [
    "import plotly\n",
    "print(plotly.__version__)\n"
   ]
  },
  {
   "cell_type": "code",
   "execution_count": 10,
   "id": "994d19ac",
   "metadata": {},
   "outputs": [],
   "source": [
    "# import networkx as nx\n",
    "# import random\n",
    "# import csv\n",
    "# import math\n",
    "# import plotly.graph_objects as go\n",
    "# import matplotlib.pyplot as plt\n",
    "# from io import StringIO\n",
    "\n",
    "# def haversine(lat1, lon1, lat2, lon2):\n",
    "#     \"\"\"Calculate the Haversine distance in kilometers between two points\"\"\"\n",
    "#     R = 6371  # Earth radius in km\n",
    "    \n",
    "#     dlat = math.radians(lat2 - lat1)\n",
    "#     dlon = math.radians(lon2 - lon1)\n",
    "#     a = (math.sin(dlat/2) * math.sin(dlat/2) + \n",
    "#          math.cos(math.radians(lat1)) * math.cos(math.radians(lat2)) * \n",
    "#          math.sin(dlon/2) * math.sin(dlon/2))\n",
    "#     c = 2 * math.atan2(math.sqrt(a), math.sqrt(1-a))\n",
    "#     return R * c\n",
    "\n",
    "# def create_water_network(csv_data):\n",
    "#     \"\"\"Create a realistic water distribution network from CSV data\"\"\"\n",
    "#     # Parse CSV data\n",
    "#     points = []\n",
    "#     reader = csv.DictReader(StringIO(csv_data))\n",
    "#     for row in reader:\n",
    "#         try:\n",
    "#             # Skip summary rows and empty data\n",
    "#             if row['id'] and row['id'].isdigit():\n",
    "#                 # Use Pressure 1 as X and Pressure 2 as Y\n",
    "#                 points.append({\n",
    "#                     'id': row['id'],\n",
    "#                     'x': float(row['Pressure 1']),\n",
    "#                     'y': float(row['Pressure 2'])\n",
    "#                 })\n",
    "#         except (ValueError, KeyError) as e:\n",
    "#             continue\n",
    "    \n",
    "#     if not points:\n",
    "#         raise ValueError(\"No valid location data found in CSV\")\n",
    "    \n",
    "#     # SCALING: Normalize coordinates to spread out nodes\n",
    "#     all_x = [p['x'] for p in points]\n",
    "#     all_y = [p['y'] for p in points]\n",
    "#     min_x, max_x = min(all_x), max(all_x)\n",
    "#     min_y, max_y = min(all_y), max(all_y)\n",
    "    \n",
    "#     for p in points:\n",
    "#         if max_x - min_x > 0:\n",
    "#             p['x'] = 100 * (p['x'] - min_x) / (max_x - min_x)\n",
    "#         else:\n",
    "#             p['x'] = 50\n",
    "#         if max_y - min_y > 0:\n",
    "#             p['y'] = 100 * (p['y'] - min_y) / (max_y - min_y)\n",
    "#         else:\n",
    "#             p['y'] = 50\n",
    "\n",
    "#     # SIMPLIFY: Reduce node counts for better visibility\n",
    "#     num_reservoirs = min(2, len(points))\n",
    "#     num_consumers = min(5, len(points))  # Reduced from 3 to 5\n",
    "#     num_junctions = min(10, max(0, len(points) - num_reservoirs - num_consumers))  # Reduced from 15\n",
    "    \n",
    "#     # Sample points for network nodes\n",
    "#     reservoir_points = points[:num_reservoirs]\n",
    "#     consumer_points = points[-num_consumers:]\n",
    "#     junction_points = points[num_reservoirs:num_reservoirs+num_junctions]\n",
    "    \n",
    "#     G = nx.DiGraph()\n",
    "\n",
    "#     # Add reservoirs with random capacities\n",
    "#     for i, point in enumerate(reservoir_points):\n",
    "#         node_id = f\"reservoir_{point['id']}\"\n",
    "#         capacity = random.randint(800, 1200)\n",
    "#         G.add_node(node_id, type=\"source\", capacity=capacity,\n",
    "#                    x=point['x'], y=point['y'])\n",
    "    \n",
    "#     # Add junctions\n",
    "#     for i, point in enumerate(junction_points):\n",
    "#         node_id = f\"junction_{point['id']}\"\n",
    "#         G.add_node(node_id, type=\"junction\", \n",
    "#                    x=point['x'], y=point['y'])\n",
    "    \n",
    "#     # Add consumers with random demands\n",
    "#     for i, point in enumerate(consumer_points):\n",
    "#         node_id = f\"consumer_{point['id']}\"\n",
    "#         demand = random.randint(100, 300)\n",
    "#         G.add_node(node_id, type=\"sink\", demand=demand,\n",
    "#                    x=point['x'], y=point['y'])\n",
    "\n",
    "#     # Get all node IDs by type\n",
    "#     reservoirs = [n for n, attr in G.nodes(data=True) if attr['type'] == 'source']\n",
    "#     junctions = [n for n, attr in G.nodes(data=True) if attr['type'] == 'junction']\n",
    "#     consumers = [n for n, attr in G.nodes(data=True) if attr['type'] == 'sink']\n",
    "\n",
    "#     # Connect reservoirs to junctions (1-2 connections each)\n",
    "#     for reservoir in reservoirs:\n",
    "#         num_connections = random.randint(1, min(2, len(junctions)))\n",
    "#         connected_junctions = random.sample(junctions, num_connections) if junctions else []\n",
    "        \n",
    "#         for junction in connected_junctions:\n",
    "#             u_x, u_y = G.nodes[reservoir]['x'], G.nodes[reservoir]['y']\n",
    "#             v_x, v_y = G.nodes[junction]['x'], G.nodes[junction]['y']\n",
    "#             distance = math.sqrt((u_x - v_x)*2 + (u_y - v_y)*2)\n",
    "#             capacity = random.randint(300, 600)\n",
    "#             cost = random.randint(5, 15)\n",
    "#             G.add_edge(reservoir, junction, capacity=capacity, cost=cost, distance=distance)\n",
    "\n",
    "#     # REDUCED CONNECTIONS: Lower probability for junction connections\n",
    "#     for i, junction1 in enumerate(junctions):\n",
    "#         for junction2 in junctions[i+1:]:\n",
    "#             if random.random() < 0.3:  # Reduced from 0.4\n",
    "#                 u_x, u_y = G.nodes[junction1]['x'], G.nodes[junction1]['y']\n",
    "#                 v_x, v_y = G.nodes[junction2]['x'], G.nodes[junction2]['y']\n",
    "#                 distance = math.sqrt((u_x - v_x)*2 + (u_y - v_y)*2)\n",
    "#                 capacity = random.randint(200, 400)\n",
    "#                 cost = random.randint(2, 8)\n",
    "                \n",
    "#                 G.add_edge(junction1, junction2, capacity=capacity, cost=cost, distance=distance)\n",
    "                \n",
    "#                 if random.random() < 0.5:\n",
    "#                     G.add_edge(junction2, junction1, capacity=capacity, cost=cost, distance=distance)\n",
    "\n",
    "#     # Connect consumers to junctions (1 connection each)\n",
    "#     for consumer in consumers:\n",
    "#         num_connections = 1  # Simplified to single connection\n",
    "#         connected_junctions = random.sample(junctions, num_connections) if junctions else []\n",
    "        \n",
    "#         for junction in connected_junctions:\n",
    "#             u_x, u_y = G.nodes[junction]['x'], G.nodes[junction]['y']\n",
    "#             v_x, v_y = G.nodes[consumer]['x'], G.nodes[consumer]['y']\n",
    "#             distance = math.sqrt((u_x - v_x)**2 + (u_y - v_y)**2)\n",
    "#             capacity = random.randint(100, 300)\n",
    "#             cost = random.randint(3, 10)\n",
    "#             G.add_edge(junction, consumer, capacity=capacity, cost=cost, distance=distance)\n",
    "\n",
    "#     # Convert to frontend format\n",
    "#     nodes = []\n",
    "#     for node, attr in G.nodes(data=True):\n",
    "#         node_data = {\"id\": node, \"type\": attr[\"type\"], \"x\": attr[\"x\"], \"y\": attr[\"y\"]}\n",
    "#         if \"capacity\" in attr:\n",
    "#             node_data[\"capacity\"] = attr[\"capacity\"]\n",
    "#         if \"demand\" in attr:\n",
    "#             node_data[\"demand\"] = attr[\"demand\"]\n",
    "#         nodes.append(node_data)\n",
    "    \n",
    "#     edges = []\n",
    "#     for u, v, attr in G.edges(data=True):\n",
    "#         edges.append({\n",
    "#             \"source\": u,\n",
    "#             \"target\": v,\n",
    "#             \"capacity\": attr[\"capacity\"],\n",
    "#             \"cost\": attr[\"cost\"],\n",
    "#             \"distance\": attr[\"distance\"]\n",
    "#         })\n",
    "    \n",
    "#     return {\n",
    "#         \"nodes\": nodes,\n",
    "#         \"edges\": edges,\n",
    "#         \"source\": reservoirs[0] if reservoirs else \"\",\n",
    "#         \"sink\": consumers[0] if consumers else \"\"\n",
    "#     }\n",
    "\n",
    "# def find_path(network):\n",
    "#     \"\"\"Find a path from source to sink using BFS\"\"\"\n",
    "#     G = nx.DiGraph()\n",
    "    \n",
    "#     # Add edges to the graph\n",
    "#     for edge in network['edges']:\n",
    "#         G.add_edge(edge['source'], edge['target'])\n",
    "    \n",
    "#     # Find path from source to sink\n",
    "#     try:\n",
    "#         path = nx.shortest_path(G, source=network['source'], target=network['sink'])\n",
    "#         return path\n",
    "#     except (nx.NetworkXNoPath, nx.NodeNotFound):\n",
    "#         return None\n",
    "\n",
    "# def calculate_flow(network, path):\n",
    "#     \"\"\"Calculate maximum flow along a path (bottleneck capacity)\"\"\"\n",
    "#     if not path:\n",
    "#         return 0\n",
    "    \n",
    "#     # Find the minimum capacity along the path\n",
    "#     min_capacity = float('inf')\n",
    "#     for i in range(len(path) - 1):\n",
    "#         u, v = path[i], path[i+1]\n",
    "        \n",
    "#         # Find the edge between u and v\n",
    "#         for edge in network['edges']:\n",
    "#             if edge['source'] == u and edge['target'] == v:\n",
    "#                 min_capacity = min(min_capacity, edge['capacity'])\n",
    "#                 break\n",
    "    \n",
    "#     return min_capacity if min_capacity != float('inf') else 0\n",
    "\n",
    "# def visualize_network(network, path=None):\n",
    "#     \"\"\"Create an abstract visualization of the water network\"\"\"\n",
    "#     # Create a Plotly figure\n",
    "#     fig = go.Figure()\n",
    "    \n",
    "#     # Node color mapping\n",
    "#     type_colors = {\n",
    "#         \"source\": \"blue\",\n",
    "#         \"junction\": \"green\",\n",
    "#         \"sink\": \"red\"\n",
    "#     }\n",
    "    \n",
    "#     # REDUCED SIZE: 80% smaller node markers\n",
    "#     type_sizes = {\n",
    "#         \"source\": 10,  # Original 25 → 5 (80% reduction)\n",
    "#         \"junction\": 8,  # Original 18 → 4 (78% reduction)\n",
    "#         \"sink\": 10  # Original 25 → 5 (80% reduction)\n",
    "#     }\n",
    "    \n",
    "#     # Add edges to the plot\n",
    "#     for edge in network['edges']:\n",
    "#         # Find source and target node positions\n",
    "#         source_node = next(n for n in network['nodes'] if n['id'] == edge['source'])\n",
    "#         target_node = next(n for n in network['nodes'] if n['id'] == edge['target'])\n",
    "        \n",
    "#         # Check if this edge is part of the path\n",
    "#         is_path = False\n",
    "#         if path:\n",
    "#             for i in range(len(path)-1):\n",
    "#                 if path[i] == edge['source'] and path[i+1] == edge['target']:\n",
    "#                     is_path = True\n",
    "#                     break\n",
    "        \n",
    "#         # Make non-path edges more transparent\n",
    "#         line_color = 'red' if is_path else 'gray'\n",
    "#         opacity = 0.9 if is_path else 0.3\n",
    "        \n",
    "#         # Add edge trace\n",
    "#         fig.add_trace(go.Scatter(\n",
    "#             x = [source_node['x'], target_node['x']],\n",
    "#             y = [source_node['y'], target_node['y']],\n",
    "#             mode = 'lines',\n",
    "#             line = dict(width = 2 if is_path else 1, color = line_color),\n",
    "#             opacity = opacity,\n",
    "#             hoverinfo = 'text',\n",
    "#             text = f\"{edge['source']} → {edge['target']}<br>Capacity: {edge['capacity']}<br>Cost: {edge['cost']}\",\n",
    "#             showlegend = False\n",
    "#         ))\n",
    "    \n",
    "#     # Add nodes to the plot\n",
    "#     for node in network['nodes']:\n",
    "#         node_type = node['type']\n",
    "#         is_in_path = path and (node['id'] in path)\n",
    "        \n",
    "#         # Only label important nodes to reduce clutter\n",
    "#         show_label = node_type in ['source', 'sink'] or is_in_path\n",
    "        \n",
    "#         fig.add_trace(go.Scatter(\n",
    "#             x = [node['x']],\n",
    "#             y = [node['y']],\n",
    "#             mode = 'markers+text' if show_label else 'markers',\n",
    "#             text = node['id'] if show_label else '',\n",
    "#             textposition = \"top center\",\n",
    "#             marker = dict(\n",
    "#                 # Reduced size multiplier for path nodes\n",
    "#                 size = type_sizes[node_type] * (1.8 if is_in_path else 1),\n",
    "#                 color = type_colors[node_type],\n",
    "#                 line = dict(width=1, color='black'),  # Thinner border\n",
    "#                 symbol = 'star' if is_in_path else 'circle'\n",
    "#             ),\n",
    "#             name = node_type.capitalize(),\n",
    "#             hoverinfo = 'text',\n",
    "#             textfont = dict(size=8, color='black'),  # Smaller text\n",
    "#             texttemplate = '%{text}',\n",
    "#             hovertext = f\"ID: {node['id']}<br>Type: {node_type}\" + \n",
    "#                    (f\"<br>Capacity: {node['capacity']}\" if 'capacity' in node else \"\") +\n",
    "#                    (f\"<br>Demand: {node['demand']}\" if 'demand' in node else \"\"),\n",
    "#             showlegend = node_type not in [t['name'] for t in fig.data]\n",
    "#         ))\n",
    "    \n",
    "#     # Set layout properties\n",
    "#     fig.update_layout(\n",
    "#         title = 'Water Distribution Network (Simplified)',\n",
    "#         showlegend = True,\n",
    "#         xaxis_title = 'Normalized Pressure 1',\n",
    "#         yaxis_title = 'Normalized Pressure 2',\n",
    "#         plot_bgcolor = 'white',\n",
    "#         height = 900,\n",
    "#         width = 1200,\n",
    "#         legend = dict(\n",
    "#             orientation=\"h\",\n",
    "#             yanchor=\"bottom\",\n",
    "#             y=1.02,\n",
    "#             xanchor=\"right\",\n",
    "#             x=1\n",
    "#         ),\n",
    "#         margin = dict(l=50, r=50, t=80, b=50)\n",
    "#     )\n",
    "    \n",
    "#     # Add grid with extended range\n",
    "#     fig.update_xaxes(showgrid=True, gridwidth=1, gridcolor='LightGray', range=[-5, 105])\n",
    "#     fig.update_yaxes(showgrid=True, gridwidth=1, gridcolor='LightGray', range=[-5, 105])\n",
    "    \n",
    "#     return fig\n",
    "\n",
    "# # Read CSV file and create network\n",
    "# with open('Filtered_Data.csv', 'r') as file:\n",
    "#     csv_data = file.read()\n",
    "\n",
    "# water_network = create_water_network(csv_data)\n",
    "\n",
    "# # Find path and calculate flow\n",
    "# path = find_path(water_network)\n",
    "# flow = calculate_flow(water_network, path) if path else 0\n",
    "\n",
    "# # Print simplified results\n",
    "# print(f\"Simplified water distribution network:\")\n",
    "# print(f\" - Reservoirs: {len([n for n in water_network['nodes'] if n['type'] == 'source'])}\")\n",
    "# print(f\" - Junctions: {len([n for n in water_network['nodes'] if n['type'] == 'junction'])}\")\n",
    "# print(f\" - Consumers: {len([n for n in water_network['nodes'] if n['type'] == 'sink'])}\")\n",
    "# print(f\" - Edges: {len(water_network['edges'])}\")\n",
    "# print(f\"\\nSource: {water_network['source']}\")\n",
    "# print(f\"Primary Sink: {water_network['sink']}\")\n",
    "\n",
    "# if path:\n",
    "#     print(f\"\\nPath found ({len(path)} nodes)\")\n",
    "#     print(f\"Max flow: {flow} units\")\n",
    "# else:\n",
    "#     print(\"\\nNo path found from source to sink!\")\n",
    "\n",
    "# # Visualize the network with Plotly\n",
    "# fig = visualize_network(water_network, path)\n",
    "# fig.show()"
   ]
  },
  {
   "cell_type": "code",
   "execution_count": 1,
   "id": "582ddffc",
   "metadata": {},
   "outputs": [
    {
     "name": "stdout",
     "output_type": "stream",
     "text": [
      "\n",
      "Network Summary:\n",
      " - Reservoirs: 2\n",
      " - Junctions: 10\n",
      " - Consumers: 5\n",
      " - Edges: 26\n",
      "\n",
      "Source: reservoir_3\n",
      "Sink: consumer_909\n",
      "\n",
      "Path found (6 nodes)\n",
      "Max flow: 193 units\n"
     ]
    },
    {
     "data": {
      "application/vnd.plotly.v1+json": {
       "config": {
        "plotlyServerURL": "https://plot.ly"
       },
       "data": [
        {
         "hoverinfo": "text",
         "line": {
          "color": "red",
          "width": 2
         },
         "mode": "lines",
         "opacity": 0.9,
         "text": "reservoir_3 → junction_8<br>Cap: 339<br>Cost: 14",
         "type": "scatter",
         "x": [
          91.46030465703421,
          97.4865845597933
         ],
         "y": [
          4.339582162741995,
          77.33779435051338
         ]
        },
        {
         "hoverinfo": "text",
         "line": {
          "color": "gray",
          "width": 1
         },
         "mode": "lines",
         "opacity": 0.3,
         "text": "reservoir_3 → junction_7<br>Cap: 447<br>Cost: 8",
         "type": "scatter",
         "x": [
          91.46030465703421,
          100
         ],
         "y": [
          4.339582162741995,
          88.65658681105378
         ]
        },
        {
         "hoverinfo": "text",
         "line": {
          "color": "gray",
          "width": 1
         },
         "mode": "lines",
         "opacity": 0.3,
         "text": "reservoir_4 → junction_10<br>Cap: 411<br>Cost: 13",
         "type": "scatter",
         "x": [
          96.6424480925072,
          95.90204004314123
         ],
         "y": [
          72.10267150227308,
          77.5058487000051
         ]
        },
        {
         "hoverinfo": "text",
         "line": {
          "color": "gray",
          "width": 1
         },
         "mode": "lines",
         "opacity": 0.3,
         "text": "junction_5 → junction_6<br>Cap: 270<br>Cost: 4",
         "type": "scatter",
         "x": [
          97.1874169332441,
          98.3570987003649
         ],
         "y": [
          75.86841701997241,
          80.9789038157021
         ]
        },
        {
         "hoverinfo": "text",
         "line": {
          "color": "gray",
          "width": 1
         },
         "mode": "lines",
         "opacity": 0.3,
         "text": "junction_5 → junction_12<br>Cap: 269<br>Cost: 5",
         "type": "scatter",
         "x": [
          97.1874169332441,
          94.46073953218837
         ],
         "y": [
          75.86841701997241,
          77.08658119221536
         ]
        },
        {
         "hoverinfo": "text",
         "line": {
          "color": "gray",
          "width": 1
         },
         "mode": "lines",
         "opacity": 0.3,
         "text": "junction_5 → junction_14<br>Cap: 225<br>Cost: 5",
         "type": "scatter",
         "x": [
          97.1874169332441,
          94.57928629552565
         ],
         "y": [
          75.86841701997241,
          78.96562292486082
         ]
        },
        {
         "hoverinfo": "text",
         "line": {
          "color": "gray",
          "width": 1
         },
         "mode": "lines",
         "opacity": 0.3,
         "text": "junction_5 → consumer_913<br>Cap: 248<br>Cost: 5",
         "type": "scatter",
         "x": [
          97.1874169332441,
          0
         ],
         "y": [
          75.86841701997241,
          0
         ]
        },
        {
         "hoverinfo": "text",
         "line": {
          "color": "gray",
          "width": 1
         },
         "mode": "lines",
         "opacity": 0.3,
         "text": "junction_6 → junction_10<br>Cap: 379<br>Cost: 6",
         "type": "scatter",
         "x": [
          98.3570987003649,
          95.90204004314123
         ],
         "y": [
          80.9789038157021,
          77.5058487000051
         ]
        },
        {
         "hoverinfo": "text",
         "line": {
          "color": "gray",
          "width": 1
         },
         "mode": "lines",
         "opacity": 0.3,
         "text": "junction_6 → junction_12<br>Cap: 252<br>Cost: 4",
         "type": "scatter",
         "x": [
          98.3570987003649,
          94.46073953218837
         ],
         "y": [
          80.9789038157021,
          77.08658119221536
         ]
        },
        {
         "hoverinfo": "text",
         "line": {
          "color": "red",
          "width": 2
         },
         "mode": "lines",
         "opacity": 0.9,
         "text": "junction_6 → junction_13<br>Cap: 385<br>Cost: 8",
         "type": "scatter",
         "x": [
          98.3570987003649,
          94.70990160822328
         ],
         "y": [
          80.9789038157021,
          78.47331051744393
         ]
        },
        {
         "hoverinfo": "text",
         "line": {
          "color": "gray",
          "width": 1
         },
         "mode": "lines",
         "opacity": 0.3,
         "text": "junction_6 → junction_14<br>Cap: 285<br>Cost: 3",
         "type": "scatter",
         "x": [
          98.3570987003649,
          94.57928629552565
         ],
         "y": [
          80.9789038157021,
          78.96562292486082
         ]
        },
        {
         "hoverinfo": "text",
         "line": {
          "color": "gray",
          "width": 1
         },
         "mode": "lines",
         "opacity": 0.3,
         "text": "junction_7 → consumer_912<br>Cap: 223<br>Cost: 5",
         "type": "scatter",
         "x": [
          100,
          10.953659825785145
         ],
         "y": [
          88.65658681105378,
          10.512438065076362
         ]
        },
        {
         "hoverinfo": "text",
         "line": {
          "color": "gray",
          "width": 1
         },
         "mode": "lines",
         "opacity": 0.3,
         "text": "junction_8 → junction_9<br>Cap: 308<br>Cost: 6",
         "type": "scatter",
         "x": [
          97.4865845597933,
          96.34460444183722
         ],
         "y": [
          77.33779435051338,
          77.79128569239414
         ]
        },
        {
         "hoverinfo": "text",
         "line": {
          "color": "red",
          "width": 2
         },
         "mode": "lines",
         "opacity": 0.9,
         "text": "junction_8 → junction_10<br>Cap: 213<br>Cost: 5",
         "type": "scatter",
         "x": [
          97.4865845597933,
          95.90204004314123
         ],
         "y": [
          77.33779435051338,
          77.5058487000051
         ]
        },
        {
         "hoverinfo": "text",
         "line": {
          "color": "gray",
          "width": 1
         },
         "mode": "lines",
         "opacity": 0.3,
         "text": "junction_8 → consumer_911<br>Cap: 193<br>Cost: 4",
         "type": "scatter",
         "x": [
          97.4865845597933,
          10.929930104258021
         ],
         "y": [
          77.33779435051338,
          10.856719619962202
         ]
        },
        {
         "hoverinfo": "text",
         "line": {
          "color": "gray",
          "width": 1
         },
         "mode": "lines",
         "opacity": 0.3,
         "text": "junction_9 → junction_12<br>Cap: 295<br>Cost: 4",
         "type": "scatter",
         "x": [
          96.34460444183722,
          94.46073953218837
         ],
         "y": [
          77.79128569239414,
          77.08658119221536
         ]
        },
        {
         "hoverinfo": "text",
         "line": {
          "color": "red",
          "width": 2
         },
         "mode": "lines",
         "opacity": 0.9,
         "text": "junction_10 → junction_6<br>Cap: 379<br>Cost: 6",
         "type": "scatter",
         "x": [
          95.90204004314123,
          98.3570987003649
         ],
         "y": [
          77.5058487000051,
          80.9789038157021
         ]
        },
        {
         "hoverinfo": "text",
         "line": {
          "color": "gray",
          "width": 1
         },
         "mode": "lines",
         "opacity": 0.3,
         "text": "junction_10 → junction_12<br>Cap: 387<br>Cost: 6",
         "type": "scatter",
         "x": [
          95.90204004314123,
          94.46073953218837
         ],
         "y": [
          77.5058487000051,
          77.08658119221536
         ]
        },
        {
         "hoverinfo": "text",
         "line": {
          "color": "gray",
          "width": 1
         },
         "mode": "lines",
         "opacity": 0.3,
         "text": "junction_10 → consumer_910<br>Cap: 269<br>Cost: 6",
         "type": "scatter",
         "x": [
          95.90204004314123,
          10.869994734649778
         ],
         "y": [
          77.5058487000051,
          10.870511314297385
         ]
        },
        {
         "hoverinfo": "text",
         "line": {
          "color": "gray",
          "width": 1
         },
         "mode": "lines",
         "opacity": 0.3,
         "text": "junction_11 → junction_14<br>Cap: 387<br>Cost: 8",
         "type": "scatter",
         "x": [
          94.82788822791936,
          94.57928629552565
         ],
         "y": [
          77.32625019155132,
          78.96562292486082
         ]
        },
        {
         "hoverinfo": "text",
         "line": {
          "color": "gray",
          "width": 1
         },
         "mode": "lines",
         "opacity": 0.3,
         "text": "junction_12 → junction_5<br>Cap: 269<br>Cost: 5",
         "type": "scatter",
         "x": [
          94.46073953218837,
          97.1874169332441
         ],
         "y": [
          77.08658119221536,
          75.86841701997241
         ]
        },
        {
         "hoverinfo": "text",
         "line": {
          "color": "gray",
          "width": 1
         },
         "mode": "lines",
         "opacity": 0.3,
         "text": "junction_12 → junction_9<br>Cap: 295<br>Cost: 4",
         "type": "scatter",
         "x": [
          94.46073953218837,
          96.34460444183722
         ],
         "y": [
          77.08658119221536,
          77.79128569239414
         ]
        },
        {
         "hoverinfo": "text",
         "line": {
          "color": "gray",
          "width": 1
         },
         "mode": "lines",
         "opacity": 0.3,
         "text": "junction_12 → junction_14<br>Cap: 380<br>Cost: 6",
         "type": "scatter",
         "x": [
          94.46073953218837,
          94.57928629552565
         ],
         "y": [
          77.08658119221536,
          78.96562292486082
         ]
        },
        {
         "hoverinfo": "text",
         "line": {
          "color": "gray",
          "width": 1
         },
         "mode": "lines",
         "opacity": 0.3,
         "text": "junction_13 → junction_14<br>Cap: 204<br>Cost: 4",
         "type": "scatter",
         "x": [
          94.70990160822328,
          94.57928629552565
         ],
         "y": [
          78.47331051744393,
          78.96562292486082
         ]
        },
        {
         "hoverinfo": "text",
         "line": {
          "color": "red",
          "width": 2
         },
         "mode": "lines",
         "opacity": 0.9,
         "text": "junction_13 → consumer_909<br>Cap: 193<br>Cost: 5",
         "type": "scatter",
         "x": [
          94.70990160822328,
          10.88068838598174
         ],
         "y": [
          78.47331051744393,
          11.061347499616893
         ]
        },
        {
         "hoverinfo": "text",
         "line": {
          "color": "gray",
          "width": 1
         },
         "mode": "lines",
         "opacity": 0.3,
         "text": "junction_14 → junction_6<br>Cap: 285<br>Cost: 3",
         "type": "scatter",
         "x": [
          94.57928629552565,
          98.3570987003649
         ],
         "y": [
          78.96562292486082,
          80.9789038157021
         ]
        },
        {
         "hoverinfo": "text",
         "hovertext": "ID: reservoir_3<br>Type: source<br>Cap: 1049",
         "marker": {
          "color": "blue",
          "line": {
           "color": "black",
           "width": 1
          },
          "size": 18,
          "symbol": "star"
         },
         "mode": "markers+text",
         "name": "Source",
         "showlegend": true,
         "text": "reservoir_3",
         "textposition": "top center",
         "type": "scatter",
         "x": [
          91.46030465703421
         ],
         "y": [
          4.339582162741995
         ]
        },
        {
         "hoverinfo": "text",
         "hovertext": "ID: reservoir_4<br>Type: source<br>Cap: 1116",
         "marker": {
          "color": "blue",
          "line": {
           "color": "black",
           "width": 1
          },
          "size": 10,
          "symbol": "circle"
         },
         "mode": "markers+text",
         "name": "Source",
         "showlegend": true,
         "text": "reservoir_4",
         "textposition": "top center",
         "type": "scatter",
         "x": [
          96.6424480925072
         ],
         "y": [
          72.10267150227308
         ]
        },
        {
         "hoverinfo": "text",
         "hovertext": "ID: junction_5<br>Type: junction",
         "marker": {
          "color": "green",
          "line": {
           "color": "black",
           "width": 1
          },
          "size": 8,
          "symbol": "circle"
         },
         "mode": "markers",
         "name": "Junction",
         "showlegend": true,
         "text": "",
         "textposition": "top center",
         "type": "scatter",
         "x": [
          97.1874169332441
         ],
         "y": [
          75.86841701997241
         ]
        },
        {
         "hoverinfo": "text",
         "hovertext": "ID: junction_6<br>Type: junction",
         "marker": {
          "color": "green",
          "line": {
           "color": "black",
           "width": 1
          },
          "size": 14.4,
          "symbol": "star"
         },
         "mode": "markers+text",
         "name": "Junction",
         "showlegend": true,
         "text": "junction_6",
         "textposition": "top center",
         "type": "scatter",
         "x": [
          98.3570987003649
         ],
         "y": [
          80.9789038157021
         ]
        },
        {
         "hoverinfo": "text",
         "hovertext": "ID: junction_7<br>Type: junction",
         "marker": {
          "color": "green",
          "line": {
           "color": "black",
           "width": 1
          },
          "size": 8,
          "symbol": "circle"
         },
         "mode": "markers",
         "name": "Junction",
         "showlegend": true,
         "text": "",
         "textposition": "top center",
         "type": "scatter",
         "x": [
          100
         ],
         "y": [
          88.65658681105378
         ]
        },
        {
         "hoverinfo": "text",
         "hovertext": "ID: junction_8<br>Type: junction",
         "marker": {
          "color": "green",
          "line": {
           "color": "black",
           "width": 1
          },
          "size": 14.4,
          "symbol": "star"
         },
         "mode": "markers+text",
         "name": "Junction",
         "showlegend": true,
         "text": "junction_8",
         "textposition": "top center",
         "type": "scatter",
         "x": [
          97.4865845597933
         ],
         "y": [
          77.33779435051338
         ]
        },
        {
         "hoverinfo": "text",
         "hovertext": "ID: junction_9<br>Type: junction",
         "marker": {
          "color": "green",
          "line": {
           "color": "black",
           "width": 1
          },
          "size": 8,
          "symbol": "circle"
         },
         "mode": "markers",
         "name": "Junction",
         "showlegend": true,
         "text": "",
         "textposition": "top center",
         "type": "scatter",
         "x": [
          96.34460444183722
         ],
         "y": [
          77.79128569239414
         ]
        },
        {
         "hoverinfo": "text",
         "hovertext": "ID: junction_10<br>Type: junction",
         "marker": {
          "color": "green",
          "line": {
           "color": "black",
           "width": 1
          },
          "size": 14.4,
          "symbol": "star"
         },
         "mode": "markers+text",
         "name": "Junction",
         "showlegend": true,
         "text": "junction_10",
         "textposition": "top center",
         "type": "scatter",
         "x": [
          95.90204004314123
         ],
         "y": [
          77.5058487000051
         ]
        },
        {
         "hoverinfo": "text",
         "hovertext": "ID: junction_11<br>Type: junction",
         "marker": {
          "color": "green",
          "line": {
           "color": "black",
           "width": 1
          },
          "size": 8,
          "symbol": "circle"
         },
         "mode": "markers",
         "name": "Junction",
         "showlegend": true,
         "text": "",
         "textposition": "top center",
         "type": "scatter",
         "x": [
          94.82788822791936
         ],
         "y": [
          77.32625019155132
         ]
        },
        {
         "hoverinfo": "text",
         "hovertext": "ID: junction_12<br>Type: junction",
         "marker": {
          "color": "green",
          "line": {
           "color": "black",
           "width": 1
          },
          "size": 8,
          "symbol": "circle"
         },
         "mode": "markers",
         "name": "Junction",
         "showlegend": true,
         "text": "",
         "textposition": "top center",
         "type": "scatter",
         "x": [
          94.46073953218837
         ],
         "y": [
          77.08658119221536
         ]
        },
        {
         "hoverinfo": "text",
         "hovertext": "ID: junction_13<br>Type: junction",
         "marker": {
          "color": "green",
          "line": {
           "color": "black",
           "width": 1
          },
          "size": 14.4,
          "symbol": "star"
         },
         "mode": "markers+text",
         "name": "Junction",
         "showlegend": true,
         "text": "junction_13",
         "textposition": "top center",
         "type": "scatter",
         "x": [
          94.70990160822328
         ],
         "y": [
          78.47331051744393
         ]
        },
        {
         "hoverinfo": "text",
         "hovertext": "ID: junction_14<br>Type: junction",
         "marker": {
          "color": "green",
          "line": {
           "color": "black",
           "width": 1
          },
          "size": 8,
          "symbol": "circle"
         },
         "mode": "markers",
         "name": "Junction",
         "showlegend": true,
         "text": "",
         "textposition": "top center",
         "type": "scatter",
         "x": [
          94.57928629552565
         ],
         "y": [
          78.96562292486082
         ]
        },
        {
         "hoverinfo": "text",
         "hovertext": "ID: consumer_909<br>Type: sink<br>Demand: 282",
         "marker": {
          "color": "red",
          "line": {
           "color": "black",
           "width": 1
          },
          "size": 18,
          "symbol": "star"
         },
         "mode": "markers+text",
         "name": "Sink",
         "showlegend": true,
         "text": "consumer_909",
         "textposition": "top center",
         "type": "scatter",
         "x": [
          10.88068838598174
         ],
         "y": [
          11.061347499616893
         ]
        },
        {
         "hoverinfo": "text",
         "hovertext": "ID: consumer_910<br>Type: sink<br>Demand: 183",
         "marker": {
          "color": "red",
          "line": {
           "color": "black",
           "width": 1
          },
          "size": 10,
          "symbol": "circle"
         },
         "mode": "markers+text",
         "name": "Sink",
         "showlegend": true,
         "text": "consumer_910",
         "textposition": "top center",
         "type": "scatter",
         "x": [
          10.869994734649778
         ],
         "y": [
          10.870511314297385
         ]
        },
        {
         "hoverinfo": "text",
         "hovertext": "ID: consumer_911<br>Type: sink<br>Demand: 227",
         "marker": {
          "color": "red",
          "line": {
           "color": "black",
           "width": 1
          },
          "size": 10,
          "symbol": "circle"
         },
         "mode": "markers+text",
         "name": "Sink",
         "showlegend": true,
         "text": "consumer_911",
         "textposition": "top center",
         "type": "scatter",
         "x": [
          10.929930104258021
         ],
         "y": [
          10.856719619962202
         ]
        },
        {
         "hoverinfo": "text",
         "hovertext": "ID: consumer_912<br>Type: sink<br>Demand: 279",
         "marker": {
          "color": "red",
          "line": {
           "color": "black",
           "width": 1
          },
          "size": 10,
          "symbol": "circle"
         },
         "mode": "markers+text",
         "name": "Sink",
         "showlegend": true,
         "text": "consumer_912",
         "textposition": "top center",
         "type": "scatter",
         "x": [
          10.953659825785145
         ],
         "y": [
          10.512438065076362
         ]
        },
        {
         "hoverinfo": "text",
         "hovertext": "ID: consumer_913<br>Type: sink<br>Demand: 165",
         "marker": {
          "color": "red",
          "line": {
           "color": "black",
           "width": 1
          },
          "size": 10,
          "symbol": "circle"
         },
         "mode": "markers+text",
         "name": "Sink",
         "showlegend": true,
         "text": "consumer_913",
         "textposition": "top center",
         "type": "scatter",
         "x": [
          0
         ],
         "y": [
          0
         ]
        }
       ],
       "layout": {
        "height": 900,
        "legend": {
         "orientation": "h",
         "x": 1,
         "xanchor": "right",
         "y": 1.02,
         "yanchor": "bottom"
        },
        "plot_bgcolor": "white",
        "showlegend": true,
        "template": {
         "data": {
          "bar": [
           {
            "error_x": {
             "color": "#2a3f5f"
            },
            "error_y": {
             "color": "#2a3f5f"
            },
            "marker": {
             "line": {
              "color": "#E5ECF6",
              "width": 0.5
             },
             "pattern": {
              "fillmode": "overlay",
              "size": 10,
              "solidity": 0.2
             }
            },
            "type": "bar"
           }
          ],
          "barpolar": [
           {
            "marker": {
             "line": {
              "color": "#E5ECF6",
              "width": 0.5
             },
             "pattern": {
              "fillmode": "overlay",
              "size": 10,
              "solidity": 0.2
             }
            },
            "type": "barpolar"
           }
          ],
          "carpet": [
           {
            "aaxis": {
             "endlinecolor": "#2a3f5f",
             "gridcolor": "white",
             "linecolor": "white",
             "minorgridcolor": "white",
             "startlinecolor": "#2a3f5f"
            },
            "baxis": {
             "endlinecolor": "#2a3f5f",
             "gridcolor": "white",
             "linecolor": "white",
             "minorgridcolor": "white",
             "startlinecolor": "#2a3f5f"
            },
            "type": "carpet"
           }
          ],
          "choropleth": [
           {
            "colorbar": {
             "outlinewidth": 0,
             "ticks": ""
            },
            "type": "choropleth"
           }
          ],
          "contour": [
           {
            "colorbar": {
             "outlinewidth": 0,
             "ticks": ""
            },
            "colorscale": [
             [
              0,
              "#0d0887"
             ],
             [
              0.1111111111111111,
              "#46039f"
             ],
             [
              0.2222222222222222,
              "#7201a8"
             ],
             [
              0.3333333333333333,
              "#9c179e"
             ],
             [
              0.4444444444444444,
              "#bd3786"
             ],
             [
              0.5555555555555556,
              "#d8576b"
             ],
             [
              0.6666666666666666,
              "#ed7953"
             ],
             [
              0.7777777777777778,
              "#fb9f3a"
             ],
             [
              0.8888888888888888,
              "#fdca26"
             ],
             [
              1,
              "#f0f921"
             ]
            ],
            "type": "contour"
           }
          ],
          "contourcarpet": [
           {
            "colorbar": {
             "outlinewidth": 0,
             "ticks": ""
            },
            "type": "contourcarpet"
           }
          ],
          "heatmap": [
           {
            "colorbar": {
             "outlinewidth": 0,
             "ticks": ""
            },
            "colorscale": [
             [
              0,
              "#0d0887"
             ],
             [
              0.1111111111111111,
              "#46039f"
             ],
             [
              0.2222222222222222,
              "#7201a8"
             ],
             [
              0.3333333333333333,
              "#9c179e"
             ],
             [
              0.4444444444444444,
              "#bd3786"
             ],
             [
              0.5555555555555556,
              "#d8576b"
             ],
             [
              0.6666666666666666,
              "#ed7953"
             ],
             [
              0.7777777777777778,
              "#fb9f3a"
             ],
             [
              0.8888888888888888,
              "#fdca26"
             ],
             [
              1,
              "#f0f921"
             ]
            ],
            "type": "heatmap"
           }
          ],
          "histogram": [
           {
            "marker": {
             "pattern": {
              "fillmode": "overlay",
              "size": 10,
              "solidity": 0.2
             }
            },
            "type": "histogram"
           }
          ],
          "histogram2d": [
           {
            "colorbar": {
             "outlinewidth": 0,
             "ticks": ""
            },
            "colorscale": [
             [
              0,
              "#0d0887"
             ],
             [
              0.1111111111111111,
              "#46039f"
             ],
             [
              0.2222222222222222,
              "#7201a8"
             ],
             [
              0.3333333333333333,
              "#9c179e"
             ],
             [
              0.4444444444444444,
              "#bd3786"
             ],
             [
              0.5555555555555556,
              "#d8576b"
             ],
             [
              0.6666666666666666,
              "#ed7953"
             ],
             [
              0.7777777777777778,
              "#fb9f3a"
             ],
             [
              0.8888888888888888,
              "#fdca26"
             ],
             [
              1,
              "#f0f921"
             ]
            ],
            "type": "histogram2d"
           }
          ],
          "histogram2dcontour": [
           {
            "colorbar": {
             "outlinewidth": 0,
             "ticks": ""
            },
            "colorscale": [
             [
              0,
              "#0d0887"
             ],
             [
              0.1111111111111111,
              "#46039f"
             ],
             [
              0.2222222222222222,
              "#7201a8"
             ],
             [
              0.3333333333333333,
              "#9c179e"
             ],
             [
              0.4444444444444444,
              "#bd3786"
             ],
             [
              0.5555555555555556,
              "#d8576b"
             ],
             [
              0.6666666666666666,
              "#ed7953"
             ],
             [
              0.7777777777777778,
              "#fb9f3a"
             ],
             [
              0.8888888888888888,
              "#fdca26"
             ],
             [
              1,
              "#f0f921"
             ]
            ],
            "type": "histogram2dcontour"
           }
          ],
          "mesh3d": [
           {
            "colorbar": {
             "outlinewidth": 0,
             "ticks": ""
            },
            "type": "mesh3d"
           }
          ],
          "parcoords": [
           {
            "line": {
             "colorbar": {
              "outlinewidth": 0,
              "ticks": ""
             }
            },
            "type": "parcoords"
           }
          ],
          "pie": [
           {
            "automargin": true,
            "type": "pie"
           }
          ],
          "scatter": [
           {
            "fillpattern": {
             "fillmode": "overlay",
             "size": 10,
             "solidity": 0.2
            },
            "type": "scatter"
           }
          ],
          "scatter3d": [
           {
            "line": {
             "colorbar": {
              "outlinewidth": 0,
              "ticks": ""
             }
            },
            "marker": {
             "colorbar": {
              "outlinewidth": 0,
              "ticks": ""
             }
            },
            "type": "scatter3d"
           }
          ],
          "scattercarpet": [
           {
            "marker": {
             "colorbar": {
              "outlinewidth": 0,
              "ticks": ""
             }
            },
            "type": "scattercarpet"
           }
          ],
          "scattergeo": [
           {
            "marker": {
             "colorbar": {
              "outlinewidth": 0,
              "ticks": ""
             }
            },
            "type": "scattergeo"
           }
          ],
          "scattergl": [
           {
            "marker": {
             "colorbar": {
              "outlinewidth": 0,
              "ticks": ""
             }
            },
            "type": "scattergl"
           }
          ],
          "scattermap": [
           {
            "marker": {
             "colorbar": {
              "outlinewidth": 0,
              "ticks": ""
             }
            },
            "type": "scattermap"
           }
          ],
          "scattermapbox": [
           {
            "marker": {
             "colorbar": {
              "outlinewidth": 0,
              "ticks": ""
             }
            },
            "type": "scattermapbox"
           }
          ],
          "scatterpolar": [
           {
            "marker": {
             "colorbar": {
              "outlinewidth": 0,
              "ticks": ""
             }
            },
            "type": "scatterpolar"
           }
          ],
          "scatterpolargl": [
           {
            "marker": {
             "colorbar": {
              "outlinewidth": 0,
              "ticks": ""
             }
            },
            "type": "scatterpolargl"
           }
          ],
          "scatterternary": [
           {
            "marker": {
             "colorbar": {
              "outlinewidth": 0,
              "ticks": ""
             }
            },
            "type": "scatterternary"
           }
          ],
          "surface": [
           {
            "colorbar": {
             "outlinewidth": 0,
             "ticks": ""
            },
            "colorscale": [
             [
              0,
              "#0d0887"
             ],
             [
              0.1111111111111111,
              "#46039f"
             ],
             [
              0.2222222222222222,
              "#7201a8"
             ],
             [
              0.3333333333333333,
              "#9c179e"
             ],
             [
              0.4444444444444444,
              "#bd3786"
             ],
             [
              0.5555555555555556,
              "#d8576b"
             ],
             [
              0.6666666666666666,
              "#ed7953"
             ],
             [
              0.7777777777777778,
              "#fb9f3a"
             ],
             [
              0.8888888888888888,
              "#fdca26"
             ],
             [
              1,
              "#f0f921"
             ]
            ],
            "type": "surface"
           }
          ],
          "table": [
           {
            "cells": {
             "fill": {
              "color": "#EBF0F8"
             },
             "line": {
              "color": "white"
             }
            },
            "header": {
             "fill": {
              "color": "#C8D4E3"
             },
             "line": {
              "color": "white"
             }
            },
            "type": "table"
           }
          ]
         },
         "layout": {
          "annotationdefaults": {
           "arrowcolor": "#2a3f5f",
           "arrowhead": 0,
           "arrowwidth": 1
          },
          "autotypenumbers": "strict",
          "coloraxis": {
           "colorbar": {
            "outlinewidth": 0,
            "ticks": ""
           }
          },
          "colorscale": {
           "diverging": [
            [
             0,
             "#8e0152"
            ],
            [
             0.1,
             "#c51b7d"
            ],
            [
             0.2,
             "#de77ae"
            ],
            [
             0.3,
             "#f1b6da"
            ],
            [
             0.4,
             "#fde0ef"
            ],
            [
             0.5,
             "#f7f7f7"
            ],
            [
             0.6,
             "#e6f5d0"
            ],
            [
             0.7,
             "#b8e186"
            ],
            [
             0.8,
             "#7fbc41"
            ],
            [
             0.9,
             "#4d9221"
            ],
            [
             1,
             "#276419"
            ]
           ],
           "sequential": [
            [
             0,
             "#0d0887"
            ],
            [
             0.1111111111111111,
             "#46039f"
            ],
            [
             0.2222222222222222,
             "#7201a8"
            ],
            [
             0.3333333333333333,
             "#9c179e"
            ],
            [
             0.4444444444444444,
             "#bd3786"
            ],
            [
             0.5555555555555556,
             "#d8576b"
            ],
            [
             0.6666666666666666,
             "#ed7953"
            ],
            [
             0.7777777777777778,
             "#fb9f3a"
            ],
            [
             0.8888888888888888,
             "#fdca26"
            ],
            [
             1,
             "#f0f921"
            ]
           ],
           "sequentialminus": [
            [
             0,
             "#0d0887"
            ],
            [
             0.1111111111111111,
             "#46039f"
            ],
            [
             0.2222222222222222,
             "#7201a8"
            ],
            [
             0.3333333333333333,
             "#9c179e"
            ],
            [
             0.4444444444444444,
             "#bd3786"
            ],
            [
             0.5555555555555556,
             "#d8576b"
            ],
            [
             0.6666666666666666,
             "#ed7953"
            ],
            [
             0.7777777777777778,
             "#fb9f3a"
            ],
            [
             0.8888888888888888,
             "#fdca26"
            ],
            [
             1,
             "#f0f921"
            ]
           ]
          },
          "colorway": [
           "#636efa",
           "#EF553B",
           "#00cc96",
           "#ab63fa",
           "#FFA15A",
           "#19d3f3",
           "#FF6692",
           "#B6E880",
           "#FF97FF",
           "#FECB52"
          ],
          "font": {
           "color": "#2a3f5f"
          },
          "geo": {
           "bgcolor": "white",
           "lakecolor": "white",
           "landcolor": "#E5ECF6",
           "showlakes": true,
           "showland": true,
           "subunitcolor": "white"
          },
          "hoverlabel": {
           "align": "left"
          },
          "hovermode": "closest",
          "mapbox": {
           "style": "light"
          },
          "paper_bgcolor": "white",
          "plot_bgcolor": "#E5ECF6",
          "polar": {
           "angularaxis": {
            "gridcolor": "white",
            "linecolor": "white",
            "ticks": ""
           },
           "bgcolor": "#E5ECF6",
           "radialaxis": {
            "gridcolor": "white",
            "linecolor": "white",
            "ticks": ""
           }
          },
          "scene": {
           "xaxis": {
            "backgroundcolor": "#E5ECF6",
            "gridcolor": "white",
            "gridwidth": 2,
            "linecolor": "white",
            "showbackground": true,
            "ticks": "",
            "zerolinecolor": "white"
           },
           "yaxis": {
            "backgroundcolor": "#E5ECF6",
            "gridcolor": "white",
            "gridwidth": 2,
            "linecolor": "white",
            "showbackground": true,
            "ticks": "",
            "zerolinecolor": "white"
           },
           "zaxis": {
            "backgroundcolor": "#E5ECF6",
            "gridcolor": "white",
            "gridwidth": 2,
            "linecolor": "white",
            "showbackground": true,
            "ticks": "",
            "zerolinecolor": "white"
           }
          },
          "shapedefaults": {
           "line": {
            "color": "#2a3f5f"
           }
          },
          "ternary": {
           "aaxis": {
            "gridcolor": "white",
            "linecolor": "white",
            "ticks": ""
           },
           "baxis": {
            "gridcolor": "white",
            "linecolor": "white",
            "ticks": ""
           },
           "bgcolor": "#E5ECF6",
           "caxis": {
            "gridcolor": "white",
            "linecolor": "white",
            "ticks": ""
           }
          },
          "title": {
           "x": 0.05
          },
          "xaxis": {
           "automargin": true,
           "gridcolor": "white",
           "linecolor": "white",
           "ticks": "",
           "title": {
            "standoff": 15
           },
           "zerolinecolor": "white",
           "zerolinewidth": 2
          },
          "yaxis": {
           "automargin": true,
           "gridcolor": "white",
           "linecolor": "white",
           "ticks": "",
           "title": {
            "standoff": 15
           },
           "zerolinecolor": "white",
           "zerolinewidth": 2
          }
         }
        },
        "title": {
         "text": "Water Distribution Network"
        },
        "width": 1200,
        "xaxis": {
         "range": [
          -5,
          105
         ],
         "showgrid": true,
         "title": {
          "text": "Pressure 1"
         }
        },
        "yaxis": {
         "range": [
          -5,
          105
         ],
         "showgrid": true,
         "title": {
          "text": "Pressure 2"
         }
        }
       }
      }
     },
     "metadata": {},
     "output_type": "display_data"
    }
   ],
   "source": [
    "import networkx as nx\n",
    "import random\n",
    "import csv\n",
    "import math\n",
    "import plotly.graph_objects as go\n",
    "from io import StringIO\n",
    "\n",
    "def haversine(lat1, lon1, lat2, lon2):\n",
    "    R = 6371\n",
    "    dlat = math.radians(lat2 - lat1)\n",
    "    dlon = math.radians(lon2 - lon1)\n",
    "    a = (math.sin(dlat/2)**2 +\n",
    "         math.cos(math.radians(lat1)) * math.cos(math.radians(lat2)) *\n",
    "         math.sin(dlon/2)**2)\n",
    "    c = 2 * math.atan2(math.sqrt(a), math.sqrt(1 - a))\n",
    "    return R * c\n",
    "\n",
    "def create_water_network(csv_data):\n",
    "    points = []\n",
    "    reader = csv.DictReader(StringIO(csv_data))\n",
    "    for row in reader:\n",
    "        try:\n",
    "            if row['id'] and row['id'].isdigit():\n",
    "                points.append({\n",
    "                    'id': row['id'],\n",
    "                    'x': float(row['Pressure 1']),\n",
    "                    'y': float(row['Pressure 2'])\n",
    "                })\n",
    "        except (ValueError, KeyError):\n",
    "            continue\n",
    "\n",
    "    if not points:\n",
    "        raise ValueError(\"No valid location data found in CSV\")\n",
    "\n",
    "    all_x = [p['x'] for p in points]\n",
    "    all_y = [p['y'] for p in points]\n",
    "    min_x, max_x = min(all_x), max(all_x)\n",
    "    min_y, max_y = min(all_y), max(all_y)\n",
    "\n",
    "    for p in points:\n",
    "        p['x'] = 100 * (p['x'] - min_x) / (max_x - min_x) if max_x - min_x else 50\n",
    "        p['y'] = 100 * (p['y'] - min_y) / (max_y - min_y) if max_y - min_y else 50\n",
    "\n",
    "    num_reservoirs = min(2, len(points))\n",
    "    num_consumers = min(5, len(points))\n",
    "    num_junctions = min(10, max(0, len(points) - num_reservoirs - num_consumers))\n",
    "\n",
    "    reservoir_points = points[:num_reservoirs]\n",
    "    consumer_points = points[-num_consumers:]\n",
    "    junction_points = points[num_reservoirs:num_reservoirs + num_junctions]\n",
    "\n",
    "    G = nx.DiGraph()\n",
    "\n",
    "    for point in reservoir_points:\n",
    "        node_id = f\"reservoir_{point['id']}\"\n",
    "        G.add_node(node_id, type=\"source\", capacity=random.randint(800, 1200),\n",
    "                   x=point['x'], y=point['y'])\n",
    "\n",
    "    for point in junction_points:\n",
    "        node_id = f\"junction_{point['id']}\"\n",
    "        G.add_node(node_id, type=\"junction\", x=point['x'], y=point['y'])\n",
    "\n",
    "    for point in consumer_points:\n",
    "        node_id = f\"consumer_{point['id']}\"\n",
    "        G.add_node(node_id, type=\"sink\", demand=random.randint(100, 300),\n",
    "                   x=point['x'], y=point['y'])\n",
    "\n",
    "    reservoirs = [n for n, a in G.nodes(data=True) if a['type'] == 'source']\n",
    "    junctions = [n for n, a in G.nodes(data=True) if a['type'] == 'junction']\n",
    "    consumers = [n for n, a in G.nodes(data=True) if a['type'] == 'sink']\n",
    "\n",
    "    for reservoir in reservoirs:\n",
    "        for junction in random.sample(junctions, random.randint(1, min(2, len(junctions)))):\n",
    "            u_x, u_y = G.nodes[reservoir]['x'], G.nodes[reservoir]['y']\n",
    "            v_x, v_y = G.nodes[junction]['x'], G.nodes[junction]['y']\n",
    "            distance = math.sqrt((u_x - v_x)**2 + (u_y - v_y)**2)\n",
    "            G.add_edge(reservoir, junction,\n",
    "                       capacity=random.randint(300, 600),\n",
    "                       cost=random.randint(5, 15),\n",
    "                       distance=distance)\n",
    "\n",
    "    for i, j1 in enumerate(junctions):\n",
    "        for j2 in junctions[i + 1:]:\n",
    "            if random.random() < 0.3:\n",
    "                u_x, u_y = G.nodes[j1]['x'], G.nodes[j1]['y']\n",
    "                v_x, v_y = G.nodes[j2]['x'], G.nodes[j2]['y']\n",
    "                distance = math.sqrt((u_x - v_x)**2 + (u_y - v_y)**2)\n",
    "                cap = random.randint(200, 400)\n",
    "                cost = random.randint(2, 8)\n",
    "                G.add_edge(j1, j2, capacity=cap, cost=cost, distance=distance)\n",
    "                if random.random() < 0.5:\n",
    "                    G.add_edge(j2, j1, capacity=cap, cost=cost, distance=distance)\n",
    "\n",
    "    for consumer in consumers:\n",
    "        for junction in random.sample(junctions, 1):\n",
    "            u_x, u_y = G.nodes[junction]['x'], G.nodes[junction]['y']\n",
    "            v_x, v_y = G.nodes[consumer]['x'], G.nodes[consumer]['y']\n",
    "            distance = math.sqrt((u_x - v_x)**2 + (u_y - v_y)**2)\n",
    "            G.add_edge(junction, consumer,\n",
    "                       capacity=random.randint(100, 300),\n",
    "                       cost=random.randint(3, 10),\n",
    "                       distance=distance)\n",
    "\n",
    "    nodes = []\n",
    "    for n, a in G.nodes(data=True):\n",
    "        d = {\"id\": n, \"type\": a[\"type\"], \"x\": a[\"x\"], \"y\": a[\"y\"]}\n",
    "        if \"capacity\" in a:\n",
    "            d[\"capacity\"] = a[\"capacity\"]\n",
    "        if \"demand\" in a:\n",
    "            d[\"demand\"] = a[\"demand\"]\n",
    "        nodes.append(d)\n",
    "\n",
    "    edges = [{\"source\": u, \"target\": v, \"capacity\": d[\"capacity\"],\n",
    "              \"cost\": d[\"cost\"], \"distance\": d[\"distance\"]}\n",
    "             for u, v, d in G.edges(data=True)]\n",
    "\n",
    "    return {\n",
    "        \"nodes\": nodes,\n",
    "        \"edges\": edges,\n",
    "        \"source\": reservoirs[0] if reservoirs else \"\",\n",
    "        \"sink\": consumers[0] if consumers else \"\"\n",
    "    }\n",
    "\n",
    "def find_path(network):\n",
    "    G = nx.DiGraph()\n",
    "    for e in network['edges']:\n",
    "        G.add_edge(e['source'], e['target'])\n",
    "    try:\n",
    "        return nx.shortest_path(G, source=network['source'], target=network['sink'])\n",
    "    except (nx.NetworkXNoPath, nx.NodeNotFound):\n",
    "        return None\n",
    "\n",
    "def calculate_flow(network, path):\n",
    "    if not path: return 0\n",
    "    min_cap = float('inf')\n",
    "    for i in range(len(path) - 1):\n",
    "        for e in network['edges']:\n",
    "            if e['source'] == path[i] and e['target'] == path[i+1]:\n",
    "                min_cap = min(min_cap, e['capacity'])\n",
    "                break\n",
    "    return min_cap if min_cap != float('inf') else 0\n",
    "\n",
    "def visualize_network(network, path=None):\n",
    "    fig = go.Figure()\n",
    "    colors = {\"source\": \"blue\", \"junction\": \"green\", \"sink\": \"red\"}\n",
    "    sizes = {\"source\": 10, \"junction\": 8, \"sink\": 10}\n",
    "\n",
    "    for e in network['edges']:\n",
    "        s = next(n for n in network['nodes'] if n['id'] == e['source'])\n",
    "        t = next(n for n in network['nodes'] if n['id'] == e['target'])\n",
    "        in_path = path and any(path[i] == e['source'] and path[i+1] == e['target'] for i in range(len(path) - 1))\n",
    "        fig.add_trace(go.Scatter(\n",
    "            x=[s['x'], t['x']], y=[s['y'], t['y']],\n",
    "            mode='lines', line=dict(width=2 if in_path else 1, color='red' if in_path else 'gray'),\n",
    "            opacity=0.9 if in_path else 0.3,\n",
    "            hoverinfo='text',\n",
    "            text=f\"{e['source']} → {e['target']}<br>Cap: {e['capacity']}<br>Cost: {e['cost']}\"\n",
    "        ))\n",
    "\n",
    "    for n in network['nodes']:\n",
    "        t = n['type']\n",
    "        in_path = path and n['id'] in path\n",
    "        fig.add_trace(go.Scatter(\n",
    "            x=[n['x']], y=[n['y']],\n",
    "            mode='markers+text' if in_path or t in ['source', 'sink'] else 'markers',\n",
    "            text=n['id'] if (in_path or t in ['source', 'sink']) else '',\n",
    "            textposition='top center',\n",
    "            marker=dict(\n",
    "                size=sizes[t] * (1.8 if in_path else 1),\n",
    "                color=colors[t],\n",
    "                line=dict(width=1, color='black'),\n",
    "                symbol='star' if in_path else 'circle'\n",
    "            ),\n",
    "            name=t.capitalize(),\n",
    "            hovertext=f\"ID: {n['id']}<br>Type: {t}\" +\n",
    "                      (f\"<br>Cap: {n['capacity']}\" if 'capacity' in n else \"\") +\n",
    "                      (f\"<br>Demand: {n['demand']}\" if 'demand' in n else \"\"),\n",
    "            hoverinfo='text',\n",
    "            showlegend=t not in [trace.name for trace in fig.data]\n",
    "        ))\n",
    "\n",
    "    fig.update_layout(\n",
    "        title='Water Distribution Network',\n",
    "        showlegend=True, height=900, width=1200,\n",
    "        xaxis=dict(title='Pressure 1', showgrid=True, range=[-5, 105]),\n",
    "        yaxis=dict(title='Pressure 2', showgrid=True, range=[-5, 105]),\n",
    "        plot_bgcolor='white',\n",
    "        legend=dict(orientation=\"h\", yanchor=\"bottom\", y=1.02, xanchor=\"right\", x=1)\n",
    "    )\n",
    "    return fig\n",
    "\n",
    "# Load and run\n",
    "with open('Filtered_Data.csv', 'r') as f:\n",
    "    csv_data = f.read()\n",
    "\n",
    "water_network = create_water_network(csv_data)\n",
    "path = find_path(water_network)\n",
    "flow = calculate_flow(water_network, path) if path else 0\n",
    "\n",
    "print(f\"\\nNetwork Summary:\")\n",
    "print(f\" - Reservoirs: {len([n for n in water_network['nodes'] if n['type'] == 'source'])}\")\n",
    "print(f\" - Junctions: {len([n for n in water_network['nodes'] if n['type'] == 'junction'])}\")\n",
    "print(f\" - Consumers: {len([n for n in water_network['nodes'] if n['type'] == 'sink'])}\")\n",
    "print(f\" - Edges: {len(water_network['edges'])}\")\n",
    "print(f\"\\nSource: {water_network['source']}\")\n",
    "print(f\"Sink: {water_network['sink']}\")\n",
    "if path:\n",
    "    print(f\"\\nPath found ({len(path)} nodes)\")\n",
    "    print(f\"Max flow: {flow} units\")\n",
    "else:\n",
    "    print(\"No path found from source to sink!\")\n",
    "\n",
    "fig = visualize_network(water_network, path)\n",
    "fig.show()\n"
   ]
  }
 ],
 "metadata": {
  "kernelspec": {
   "display_name": "Python 3",
   "language": "python",
   "name": "python3"
  },
  "language_info": {
   "codemirror_mode": {
    "name": "ipython",
    "version": 3
   },
   "file_extension": ".py",
   "mimetype": "text/x-python",
   "name": "python",
   "nbconvert_exporter": "python",
   "pygments_lexer": "ipython3",
   "version": "3.13.2"
  }
 },
 "nbformat": 4,
 "nbformat_minor": 5
}
